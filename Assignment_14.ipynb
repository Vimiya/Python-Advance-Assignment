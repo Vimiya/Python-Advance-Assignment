{
 "cells": [
  {
   "cell_type": "markdown",
   "id": "10a287a0",
   "metadata": {},
   "source": [
    "Q1. Is an assignment operator like += only for show? Is it possible that it would lead to faster results\n",
    "at the runtime?\n",
    "\n",
    "Ans: A=A+1 evaluates to finding A, adding 1 to it. Then storing the value again in variable A. This expression makes Python to look for memory holder of a twice. But A+=1 simply means value of A is to incremented by 1. As memory address has to be identified once, += leads to faster operation."
   ]
  },
  {
   "cell_type": "code",
   "execution_count": null,
   "id": "701e5daa",
   "metadata": {},
   "outputs": [],
   "source": []
  },
  {
   "cell_type": "code",
   "execution_count": null,
   "id": "62695db3",
   "metadata": {},
   "outputs": [],
   "source": [
    "Q2. What is the smallest number of statements you'd have to write in most programming languages to\n",
    "replace the Python expression a, b = a + b, a?\n",
    "\n",
    "Ans: Minimum number of lines required to write above code in languages other Python will be 4, \n",
    "    two for assigning initial values for variables a and b, and two for reassignment i.e. a=a+b and b=a."
   ]
  },
  {
   "cell_type": "code",
   "execution_count": null,
   "id": "d331cd30",
   "metadata": {},
   "outputs": [],
   "source": []
  },
  {
   "cell_type": "code",
   "execution_count": null,
   "id": "b1f941a2",
   "metadata": {},
   "outputs": [],
   "source": []
  },
  {
   "cell_type": "code",
   "execution_count": null,
   "id": "11060548",
   "metadata": {},
   "outputs": [],
   "source": [
    "Q3. In Python, what is the most effective way to set a list of 100 integers to 0?\n"
   ]
  },
  {
   "cell_type": "code",
   "execution_count": 1,
   "id": "f3e5f030",
   "metadata": {},
   "outputs": [
    {
     "name": "stdout",
     "output_type": "stream",
     "text": [
      "[0, 0, 0, 0, 0, 0, 0, 0, 0, 0, 0, 0, 0, 0, 0, 0, 0, 0, 0, 0, 0, 0, 0, 0, 0, 0, 0, 0, 0, 0, 0, 0, 0, 0, 0, 0, 0, 0, 0, 0, 0, 0, 0, 0, 0, 0, 0, 0, 0, 0, 0, 0, 0, 0, 0, 0, 0, 0, 0, 0, 0, 0, 0, 0, 0, 0, 0, 0, 0, 0, 0, 0, 0, 0, 0, 0, 0, 0, 0, 0, 0, 0, 0, 0, 0, 0, 0, 0, 0, 0, 0, 0, 0, 0, 0, 0, 0, 0, 0, 0]\n"
     ]
    }
   ],
   "source": [
    "zero_list = [0 for x in range(100)]\n",
    "print(zero_list)"
   ]
  },
  {
   "cell_type": "code",
   "execution_count": null,
   "id": "1d3a973a",
   "metadata": {},
   "outputs": [],
   "source": []
  },
  {
   "cell_type": "code",
   "execution_count": null,
   "id": "e17f9714",
   "metadata": {},
   "outputs": [],
   "source": [
    "Q4. What is the most effective way to initialise a list of 99 integers that repeats the sequence 1, 2, 3?\n",
    "S If necessary, show step-by-step instructions on how to accomplish this.\n"
   ]
  },
  {
   "cell_type": "code",
   "execution_count": 2,
   "id": "53107ee6",
   "metadata": {},
   "outputs": [
    {
     "name": "stdout",
     "output_type": "stream",
     "text": [
      "[1, 2, 3, 1, 2, 3, 1, 2, 3, 1, 2, 3, 1, 2, 3, 1, 2, 3, 1, 2, 3, 1, 2, 3, 1, 2, 3, 1, 2, 3, 1, 2, 3, 1, 2, 3, 1, 2, 3, 1, 2, 3, 1, 2, 3, 1, 2, 3, 1, 2, 3, 1, 2, 3, 1, 2, 3, 1, 2, 3, 1, 2, 3, 1, 2, 3, 1, 2, 3, 1, 2, 3, 1, 2, 3, 1, 2, 3, 1, 2, 3, 1, 2, 3, 1, 2, 3, 1, 2, 3, 1, 2, 3, 1, 2, 3, 1, 2, 3]\n"
     ]
    }
   ],
   "source": [
    "my_list = [1,2,3]*33\n",
    "print(my_list)"
   ]
  },
  {
   "cell_type": "code",
   "execution_count": null,
   "id": "84fc738a",
   "metadata": {},
   "outputs": [],
   "source": []
  },
  {
   "cell_type": "code",
   "execution_count": null,
   "id": "9df27ae2",
   "metadata": {},
   "outputs": [],
   "source": [
    "Q5. If you're using IDLE to run a Python application, explain how to print a multidimensional list as\n",
    "efficiently?"
   ]
  },
  {
   "cell_type": "code",
   "execution_count": 3,
   "id": "0d56c379",
   "metadata": {},
   "outputs": [
    {
     "name": "stdout",
     "output_type": "stream",
     "text": [
      "1 1 2 2 3 3 4 4 5 5 "
     ]
    }
   ],
   "source": [
    "my_list = [[1,1],[2,2],[3,3],[4,4],[5,5]] # 2 dimensional List\n",
    "for x in range(len(my_list)):\n",
    "    for y in range(len(my_list[x])):\n",
    "        print(my_list[x][y],end=\" \")"
   ]
  },
  {
   "cell_type": "code",
   "execution_count": null,
   "id": "fa8b71fa",
   "metadata": {},
   "outputs": [],
   "source": []
  },
  {
   "cell_type": "code",
   "execution_count": null,
   "id": "15c60c43",
   "metadata": {},
   "outputs": [],
   "source": [
    "Q6. Is it possible to use list comprehension with a string? If so, how can you go about doing it?"
   ]
  },
  {
   "cell_type": "code",
   "execution_count": null,
   "id": "673bcc62",
   "metadata": {},
   "outputs": [],
   "source": [
    "Ans: List comprehension with string is possible."
   ]
  },
  {
   "cell_type": "code",
   "execution_count": 4,
   "id": "ae3282af",
   "metadata": {},
   "outputs": [
    {
     "name": "stdout",
     "output_type": "stream",
     "text": [
      "['i', 'N', 'e', 'u', 'r', 'o', 'n']\n"
     ]
    }
   ],
   "source": [
    "my_list = [ele for ele in 'iNeuron']\n",
    "print(my_list)\n"
   ]
  },
  {
   "cell_type": "code",
   "execution_count": null,
   "id": "a79cea05",
   "metadata": {},
   "outputs": [],
   "source": []
  },
  {
   "cell_type": "code",
   "execution_count": null,
   "id": "c41ad8e0",
   "metadata": {},
   "outputs": [],
   "source": [
    "\n",
    "Q7. From the command line, how do you get support with a user-written Python programme? Is this\n",
    "possible from inside IDLE?\n",
    "\n",
    "Ans: Get support with a user-written Python Programme: \n",
    "    Start a command prompt (Windows) or terminal window (Linux/Mac). \n",
    "    If the current working directory is the same as the location in which you saved the file, \n",
    "    you can simply specify the filename as a command-line argument to the Python interpreter.\n",
    "\n",
    "Get support with a User-written Python Program from IDLE: You can also create script files and run them in IDLE. \n",
    "    From the Shell window menu, select File → New File. That should open an additional editing window. \n",
    "    Type in the code to be executed. From the menu in that window, select File → Save or File → Save As… and \n",
    "    save the file to disk. Then select Run → Run Module. The output should appear back in the interpreter"
   ]
  },
  {
   "cell_type": "code",
   "execution_count": null,
   "id": "3e2c9e0c",
   "metadata": {},
   "outputs": [],
   "source": []
  },
  {
   "cell_type": "code",
   "execution_count": null,
   "id": "5d601498",
   "metadata": {},
   "outputs": [],
   "source": []
  },
  {
   "cell_type": "code",
   "execution_count": null,
   "id": "3f5f2b49",
   "metadata": {},
   "outputs": [],
   "source": [
    "Q8. Functions are said to be “first-class objects” in Python but not in most other languages, such as\n",
    "C++ or Java. What can you do in Python with a function (callable object) that you can&#39;t do in C or\n",
    "C++?\n",
    "\n",
    "Ans: The tasks which can be performed with the functions in python are:\n",
    "\n",
    "A function is an instance of the Object type.\n",
    "You can store the function in a variable.\n",
    "You can pass the function as a parameter to another function.\n",
    "You can return the function from a function.\n",
    "You can store them in data structures such as hash tables, lists,"
   ]
  },
  {
   "cell_type": "code",
   "execution_count": null,
   "id": "1cfa5d6a",
   "metadata": {},
   "outputs": [],
   "source": []
  },
  {
   "cell_type": "code",
   "execution_count": null,
   "id": "66ec2dfc",
   "metadata": {},
   "outputs": [],
   "source": [
    "Q9. How do you distinguish between a wrapper, a wrapped feature, and a decorator?\n",
    "\n",
    "Ans: Wrappers Around the functions are known as Decorators."
   ]
  },
  {
   "cell_type": "code",
   "execution_count": null,
   "id": "eef1c51e",
   "metadata": {},
   "outputs": [],
   "source": []
  },
  {
   "cell_type": "code",
   "execution_count": null,
   "id": "63428df7",
   "metadata": {},
   "outputs": [],
   "source": []
  },
  {
   "cell_type": "code",
   "execution_count": null,
   "id": "a13c144b",
   "metadata": {},
   "outputs": [],
   "source": [
    "Q10. If a function is a generator function, what does it return?\n",
    "\n",
    "Ans: Generator functions are a special kind of function that return a lazy iterator. \n",
    "These are objects that you can loop over like a list. However, unlike lists, lazy iterators do not store their contents \n",
    "in memory."
   ]
  },
  {
   "cell_type": "code",
   "execution_count": null,
   "id": "9e3afe19",
   "metadata": {},
   "outputs": [],
   "source": []
  },
  {
   "cell_type": "code",
   "execution_count": null,
   "id": "e67bda1e",
   "metadata": {},
   "outputs": [],
   "source": []
  },
  {
   "cell_type": "code",
   "execution_count": null,
   "id": "90bda601",
   "metadata": {},
   "outputs": [],
   "source": [
    "Q11. What is the one improvement that must be made to a function in order for it to become a\n",
    "generator function in the Python language?\n",
    "\n",
    "Ans: Generator is a written as normal function but uses yield keyword to return values instead of return keyword."
   ]
  },
  {
   "cell_type": "code",
   "execution_count": null,
   "id": "67d5dc4c",
   "metadata": {},
   "outputs": [],
   "source": []
  },
  {
   "cell_type": "code",
   "execution_count": null,
   "id": "fd183d2e",
   "metadata": {},
   "outputs": [],
   "source": []
  },
  {
   "cell_type": "code",
   "execution_count": null,
   "id": "0a783b69",
   "metadata": {},
   "outputs": [],
   "source": [
    "Q12. Identify at least one benefit of generators.\n",
    "\n",
    "Ans: return statement sends a specified value back to its caller whereas yield statment can produce a sequence of values. \n",
    "We should use generator when we want to iterate over a sequence, but don’t want to store the entire sequence in memory."
   ]
  }
 ],
 "metadata": {
  "kernelspec": {
   "display_name": "Python 3 (ipykernel)",
   "language": "python",
   "name": "python3"
  },
  "language_info": {
   "codemirror_mode": {
    "name": "ipython",
    "version": 3
   },
   "file_extension": ".py",
   "mimetype": "text/x-python",
   "name": "python",
   "nbconvert_exporter": "python",
   "pygments_lexer": "ipython3",
   "version": "3.9.7"
  }
 },
 "nbformat": 4,
 "nbformat_minor": 5
}
