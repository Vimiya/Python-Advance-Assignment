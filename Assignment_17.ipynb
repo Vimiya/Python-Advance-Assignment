{
 "cells": [
  {
   "cell_type": "markdown",
   "id": "18d30321",
   "metadata": {},
   "source": [
    "Q1. Explain the difference between greedy and non-greedy syntax with visual terms in as few words\n",
    "as possible. What is the bare minimum effort required to transform a greedy pattern into a non-greedy\n",
    "one? What characters or characters can you introduce or change?\n",
    "\n",
    "Ans: The Main difference between Greedy and Non Greedy Match Syntax is The Greedy Match will try to match as many repetitions of the quantified pattern as possible Whereas The Non Greedy Match will try to match as few repetitions of the quantified pattern as possible"
   ]
  },
  {
   "cell_type": "code",
   "execution_count": 2,
   "id": "42abb2c2",
   "metadata": {},
   "outputs": [
    {
     "name": "stdout",
     "output_type": "stream",
     "text": [
      "['12345678910', '']\n",
      "['12345678910']\n",
      "['1', '2', '3', '4', '5', '6', '7', '8', '9', '1', '0', '']\n",
      "['12345', '67891']\n",
      "['12345', '67891']\n"
     ]
    }
   ],
   "source": [
    "# Greedy match\n",
    "\n",
    "import re\n",
    "# zero or more occurrences\n",
    "print(re.findall('[0-9]*', '12345678910'))  # output ['12345678910', '']\n",
    "\n",
    "# one or more occurrences\n",
    "print(re.findall('[0-9]+', '12345678910'))  # output ['12345678910']\n",
    "\n",
    "# zero or one occurrences\n",
    "print(re.findall('[0-9]?', '12345678910')) # output ['1', '2', '3', '4', '5', '6', '7', '8', '9', '1', '0', '']\n",
    "\n",
    "# exactly 5 occurrences\n",
    "print(re.findall('[0-9]{5}', '12345678910')) # output ['12345', '67891']\n",
    "\n",
    "# at least 2 but not greater than 5\n",
    "print(re.findall('[0-9]{2,5}', '12345678910')) # output ['12345', '67891']"
   ]
  },
  {
   "cell_type": "code",
   "execution_count": 3,
   "id": "fc4a850d",
   "metadata": {},
   "outputs": [
    {
     "name": "stdout",
     "output_type": "stream",
     "text": [
      "['', '1', '', '2', '', '3', '', '4', '', '5', '', '6', '', '7', '', '8', '', '9', '', '1', '', '0', '']\n"
     ]
    }
   ],
   "source": [
    "# Non-greedy match\n",
    "\n",
    "# 1. Non Greedy Asterisk (*?) –\n",
    "# matches zero or one occurrences of the number\n",
    "print(re.findall('[0-9]*?', '12345678910'))"
   ]
  },
  {
   "cell_type": "code",
   "execution_count": 4,
   "id": "af681e0a",
   "metadata": {},
   "outputs": [
    {
     "name": "stdout",
     "output_type": "stream",
     "text": [
      "['1', '2', '3', '4', '5', '6', '7', '8', '9', '1', '0']\n"
     ]
    }
   ],
   "source": [
    "# Non-greedy match\n",
    "\n",
    "# 3. Non Greedy Question mark ( ?? ) –\n",
    "# matches only once occurrences of the number.\n",
    "print(re.findall('[0-9]+?', '12345678910'))"
   ]
  },
  {
   "cell_type": "code",
   "execution_count": 5,
   "id": "1ba9977f",
   "metadata": {},
   "outputs": [
    {
     "name": "stdout",
     "output_type": "stream",
     "text": [
      "['', '1', '', '2', '', '3', '', '4', '', '5', '', '6', '', '7', '', '8', '', '9', '', '1', '', '0', '']\n"
     ]
    }
   ],
   "source": [
    "# Non-greedy match\n",
    "\n",
    "# 4. Non Greedy Question mark ( ?? ) –\n",
    "# consumes an empty string, then a number, then again an empty string followed by a number as so on. \n",
    "# It is trying to match as few numbers as possible that is why we are seeing this kind of pattern.\n",
    "print(re.findall('[0-9]??', '12345678910'))"
   ]
  },
  {
   "cell_type": "code",
   "execution_count": 6,
   "id": "f4d64f48",
   "metadata": {},
   "outputs": [
    {
     "name": "stdout",
     "output_type": "stream",
     "text": [
      "['12345', '67891']\n"
     ]
    }
   ],
   "source": [
    "# Non-greedy match\n",
    "\n",
    "# 5. Non Greedy curly braces –\n",
    "# It matches 5 digits as curly braces matches exactly the specified number of occurrences.\n",
    "print(re.findall('[0-9]{5}?', '12345678910'))"
   ]
  },
  {
   "cell_type": "code",
   "execution_count": null,
   "id": "3f5d18d0",
   "metadata": {},
   "outputs": [],
   "source": []
  },
  {
   "cell_type": "code",
   "execution_count": null,
   "id": "e9473ad9",
   "metadata": {},
   "outputs": [],
   "source": []
  },
  {
   "cell_type": "code",
   "execution_count": null,
   "id": "fb64db03",
   "metadata": {},
   "outputs": [],
   "source": [
    "Q2. When exactly does greedy versus non-greedy make a difference?  What if you're looking for a\n",
    "non-greedy match but the only one available is greedy?\n",
    "\n",
    "Ans: The Greedy Match will try to match as many repetitions of the quantified pattern as possible. \n",
    "    The Non Greedy Match will try to match as few repetitions of the quantified pattern as possible. \n",
    "    If only Non Greedy Match is available, we can use other filtering or pattern matching methods of regex and \n",
    "    further identify the required pattern."
   ]
  },
  {
   "cell_type": "code",
   "execution_count": null,
   "id": "7a2e688b",
   "metadata": {},
   "outputs": [],
   "source": []
  },
  {
   "cell_type": "code",
   "execution_count": null,
   "id": "32a2b265",
   "metadata": {},
   "outputs": [],
   "source": []
  },
  {
   "cell_type": "code",
   "execution_count": null,
   "id": "e6cf95d4",
   "metadata": {},
   "outputs": [],
   "source": [
    "Q3. In a simple match of a string, which looks only for one match and does not do any replacement, is\n",
    "the use of a nontagged group likely to make any practical difference?\n",
    "\n",
    "Ans: In this Case The Non Tagged Group will not make any diffrence in this case."
   ]
  },
  {
   "cell_type": "code",
   "execution_count": 8,
   "id": "2cc638c3",
   "metadata": {},
   "outputs": [
    {
     "name": "stdout",
     "output_type": "stream",
     "text": [
      "Phone number found -> 234\n",
      "Phone number found -> 234\n"
     ]
    }
   ],
   "source": [
    "import re\n",
    "phoneNumRegex = re.compile(r'\\d\\d\\d')\n",
    "num = phoneNumRegex.search('My number is 234-567-8901.')\n",
    "print(f'Phone number found -> {num.group()}') # Non Tagged group\n",
    "print(f'Phone number found -> {num.group(0)}') # Tagged Group"
   ]
  },
  {
   "cell_type": "code",
   "execution_count": null,
   "id": "d55a7f06",
   "metadata": {},
   "outputs": [],
   "source": []
  },
  {
   "cell_type": "code",
   "execution_count": null,
   "id": "1808127e",
   "metadata": {},
   "outputs": [],
   "source": []
  },
  {
   "cell_type": "code",
   "execution_count": null,
   "id": "302516e7",
   "metadata": {},
   "outputs": [],
   "source": [
    "Q4. Describe a scenario in which using a nontagged category would have a significant impact on the\n",
    "program's outcomes.\n",
    "\n",
    "Ans: Here in the below Code Snippet . decimal is not tagged or captured. \n",
    "    It will useful in scenarios where the separator of value in a string is of no use and we need to capture \n",
    "    only the values."
   ]
  },
  {
   "cell_type": "code",
   "execution_count": 9,
   "id": "3f6f0b45",
   "metadata": {},
   "outputs": [
    {
     "data": {
      "text/plain": [
       "('135', '456')"
      ]
     },
     "execution_count": 9,
     "metadata": {},
     "output_type": "execute_result"
    }
   ],
   "source": [
    "import re\n",
    "text='135.456'\n",
    "pattern=r'(\\d+)(?:.)(\\d+)'\n",
    "regobj=re.compile(pattern)\n",
    "matobj=regobj.search(text)\n",
    "matobj.groups()"
   ]
  },
  {
   "cell_type": "code",
   "execution_count": null,
   "id": "ae09b157",
   "metadata": {},
   "outputs": [],
   "source": []
  },
  {
   "cell_type": "code",
   "execution_count": null,
   "id": "39835196",
   "metadata": {},
   "outputs": [],
   "source": []
  },
  {
   "cell_type": "code",
   "execution_count": null,
   "id": "a3b13cc9",
   "metadata": {},
   "outputs": [],
   "source": [
    "Q5. Unlike a normal regex pattern, a look-ahead condition does not consume the characters it\n",
    "examines. Describe a situation in which this could make a difference in the results of your\n",
    "programme.\n",
    "\n",
    "Ans: While counting the number of multiple lines or mutiple sentence in a string the positive look ahead makes \n",
    "    a difference, without which we wont get the correct count of lines or sentences in a string."
   ]
  },
  {
   "cell_type": "code",
   "execution_count": null,
   "id": "c71578b6",
   "metadata": {},
   "outputs": [],
   "source": []
  },
  {
   "cell_type": "code",
   "execution_count": null,
   "id": "755bf779",
   "metadata": {},
   "outputs": [],
   "source": []
  },
  {
   "cell_type": "code",
   "execution_count": null,
   "id": "917798a4",
   "metadata": {},
   "outputs": [],
   "source": []
  },
  {
   "cell_type": "code",
   "execution_count": null,
   "id": "1842fc37",
   "metadata": {},
   "outputs": [],
   "source": [
    "Q6. In standard expressions, what is the difference between positive look-ahead and negative look-\n",
    "ahead?\n",
    "\n",
    "Ans: Positive Lookahead allows to add a condition for what follows. \n",
    "    Negative Lookahead is similar, but it looks behind. \n",
    "    That is, it allows to match a pattern only if there’s something before it."
   ]
  },
  {
   "cell_type": "code",
   "execution_count": null,
   "id": "eb758e69",
   "metadata": {},
   "outputs": [],
   "source": []
  },
  {
   "cell_type": "code",
   "execution_count": null,
   "id": "48f1fac0",
   "metadata": {},
   "outputs": [],
   "source": []
  },
  {
   "cell_type": "code",
   "execution_count": null,
   "id": "936a2b29",
   "metadata": {},
   "outputs": [],
   "source": []
  },
  {
   "cell_type": "code",
   "execution_count": null,
   "id": "7f1915bc",
   "metadata": {},
   "outputs": [],
   "source": [
    "Q7. What is the benefit of referring to groups by name rather than by number in a standard\n",
    "expression?\n",
    "\n",
    "Ans: Referring to groups by name rather than by number in a standard expression helps to keep the code clear and \n",
    "    easy to understand."
   ]
  },
  {
   "cell_type": "code",
   "execution_count": null,
   "id": "7e7679f2",
   "metadata": {},
   "outputs": [],
   "source": []
  },
  {
   "cell_type": "code",
   "execution_count": null,
   "id": "56a29a26",
   "metadata": {},
   "outputs": [],
   "source": []
  },
  {
   "cell_type": "code",
   "execution_count": null,
   "id": "194456f0",
   "metadata": {},
   "outputs": [],
   "source": []
  },
  {
   "cell_type": "code",
   "execution_count": null,
   "id": "86dbf056",
   "metadata": {},
   "outputs": [],
   "source": [
    "Q8. Can you identify repeated items within a target string using named groups, as in 'The cow\n",
    "jumped over the moon'?\n",
    "\n"
   ]
  },
  {
   "cell_type": "code",
   "execution_count": 10,
   "id": "b8168f8f",
   "metadata": {},
   "outputs": [
    {
     "data": {
      "text/plain": [
       "['The', 'the']"
      ]
     },
     "execution_count": 10,
     "metadata": {},
     "output_type": "execute_result"
    }
   ],
   "source": [
    "import re\n",
    "text = \"The cow jumped over the moon\"\n",
    "regobj=re.compile(r'(?P<w1>The)',re.I)\n",
    "regobj.findall(text)"
   ]
  },
  {
   "cell_type": "code",
   "execution_count": null,
   "id": "0d8c5729",
   "metadata": {},
   "outputs": [],
   "source": []
  },
  {
   "cell_type": "code",
   "execution_count": null,
   "id": "e22a23e8",
   "metadata": {},
   "outputs": [],
   "source": []
  },
  {
   "cell_type": "code",
   "execution_count": null,
   "id": "178ccbd4",
   "metadata": {},
   "outputs": [],
   "source": [
    "Q9. When parsing a string, what is at least one thing that the Scanner interface does for you that the\n",
    "re.findall feature does not?\n",
    "\n",
    "Ans: re.findall() module is used to search for all occurrences that match a given pattern. \n",
    "    In contrast, re.search() will only return the first occurrence that matches the specified pattern. \n",
    "re.findall() will iterate over all the lines of the file and will return all non-overlapping matches of pattern in a \n",
    "single step."
   ]
  },
  {
   "cell_type": "code",
   "execution_count": null,
   "id": "576cd7ed",
   "metadata": {},
   "outputs": [],
   "source": []
  },
  {
   "cell_type": "code",
   "execution_count": null,
   "id": "7f204ffe",
   "metadata": {},
   "outputs": [],
   "source": [
    "Q10. Does a scanner object have to be named scanner?\n",
    "\n",
    "Ans: Yes, It may have any name."
   ]
  }
 ],
 "metadata": {
  "kernelspec": {
   "display_name": "Python 3 (ipykernel)",
   "language": "python",
   "name": "python3"
  },
  "language_info": {
   "codemirror_mode": {
    "name": "ipython",
    "version": 3
   },
   "file_extension": ".py",
   "mimetype": "text/x-python",
   "name": "python",
   "nbconvert_exporter": "python",
   "pygments_lexer": "ipython3",
   "version": "3.9.7"
  }
 },
 "nbformat": 4,
 "nbformat_minor": 5
}
