{
 "cells": [
  {
   "cell_type": "markdown",
   "id": "9cdc5c76",
   "metadata": {},
   "source": [
    "Q1. Define the relationship between a class and its instances. Is it a one-to-one or a one-to-many\n",
    "partnership, for example?\n",
    "\n",
    "Ans: Relationship between a class and its instances is a one to many partnership.\n",
    "\n",
    "\n",
    "Q2. What kind of data is held only in an instance?\n",
    "\n",
    "Ans: Instance objects contains the Instance variables which are specific to that specific Instance object.\n",
    "\n",
    "Q3. What kind of knowledge is stored in a class?\n",
    "\n",
    "Ans: Class creates a user-defined data structure, which holds its own data members and member functions, which can be accessed and used by creating an instance of that class. A class is like a blueprint for an object.\n",
    "\n",
    "\n",
    "\n",
    "Q4. What exactly is a method, and how is it different from a regular function?\n",
    "\n",
    "A method, like a function, is a set of instructions that perform a task. The difference is that a method is associated with an object, while a function is not.\n",
    "\n",
    "\n",
    "Q5. Is inheritance supported in Python, and if so, what is the syntax?\n",
    "\n",
    "Ans: Yes,Python supports inheritance. The Types of Inheritence Supported by Python are:\n",
    "\n",
    "Simple Inheritence\n",
    "Multiple Inheritence\n",
    "Multilevel lInheritence\n",
    "Hybrid Inheritence\n",
    "Hierarchical Inheritence"
   ]
  },
  {
   "cell_type": "code",
   "execution_count": 1,
   "id": "dbd3f93b",
   "metadata": {},
   "outputs": [],
   "source": [
    "class Person:\n",
    "    def __init__(self, fname, lname):\n",
    "        self.first_name = fname\n",
    "        self.last_name = lname\n",
    "class Student(Person):\n",
    "    pass"
   ]
  },
  {
   "cell_type": "code",
   "execution_count": null,
   "id": "72444d42",
   "metadata": {},
   "outputs": [],
   "source": []
  },
  {
   "cell_type": "markdown",
   "id": "dddabd79",
   "metadata": {},
   "source": [
    "Q6. How much encapsulation (making instance or class variables private) does Python support?\n",
    "\n",
    "Ans: Encapsulation describes the idea of wrapping data and the methods that work on data within one unit. This puts restrictions on accessing variables and methods directly and can prevent the accidental modification of data. To prevent accidental change, an objects variable can only be changed by an objects method.\n",
    "\n",
    "\n",
    "Q7. How do you distinguish between a class variable and an instance variable?\n",
    "\n",
    "Ans: The Class Attribute is available to all the instance objects of that class. whereas Instance Attributes are accessible only to the object or Instance of that class.\n",
    "\n",
    "A single copy of Class attributes is maintained by pvm (python virtual machine) at the class level. Whereas difference copies of instance attributes are maintained by pvm at objects/instance level.\n",
    "\n",
    "\n",
    "Q8. When, if ever, can self be included in a class's method definitions?\n",
    "\n",
    "Ans: Yes, self can included in class method definations to access the instance variables inside class methods.\n"
   ]
  },
  {
   "cell_type": "code",
   "execution_count": null,
   "id": "3e373d12",
   "metadata": {},
   "outputs": [],
   "source": []
  },
  {
   "cell_type": "code",
   "execution_count": null,
   "id": "6dc9e08b",
   "metadata": {},
   "outputs": [],
   "source": [
    "Q9. What is the difference between the _ _add_ _ and the _ _radd_ _ methods?\n",
    "\n",
    "The Python __radd__() method implements the reverse addition operation that is addition with reflected, \n",
    "swapped operands. So, when you call x + y, Python attempts to call x.__add__(y). '\n",
    "Only if the method is not implemented on the left operrand, Python attempts to call __radd__ on the right operand \n",
    "and if this isn’t implemented either, it raises a TypeError.\n",
    "\n",
    "We call this a “Dunder Method” for “Double Underscore Method” (also called “magic method”). \n",
    "\n",
    "So, the difference between x.__add__(y) and x.__radd__(y) is that the former calculates x + y \n",
    "whereas the latter calculates y + x — both calling the respective method defined on the object x."
   ]
  },
  {
   "cell_type": "code",
   "execution_count": 1,
   "id": "4b5a2219",
   "metadata": {},
   "outputs": [
    {
     "name": "stdout",
     "output_type": "stream",
     "text": [
      "called reverse +\n"
     ]
    }
   ],
   "source": [
    "class Data_1:\n",
    "    pass\n",
    "\n",
    "class Data_2:\n",
    "    def __radd__(self, other):\n",
    "        return 'called reverse +'\n",
    "\n",
    "\n",
    "x = Data_1()\n",
    "y = Data_2()\n",
    "\n",
    "print(x + y)"
   ]
  },
  {
   "cell_type": "code",
   "execution_count": null,
   "id": "ca45f33e",
   "metadata": {},
   "outputs": [],
   "source": []
  },
  {
   "cell_type": "code",
   "execution_count": null,
   "id": "97730040",
   "metadata": {},
   "outputs": [],
   "source": [
    "Q10. When is it necessary to use a reflection method? When do you not need it, even though you\n",
    "support the operation in question?\n",
    "\n",
    "Ans: Reflection method we often encounter the requirement that a method in the executing object, \n",
    "    or a variable in the calling object, or a field of the object should be assigned, \n",
    "    while the method name or field name can not be determined when encoding the code, \n",
    "    and need to be input in the form of passing strings through parameters."
   ]
  },
  {
   "cell_type": "code",
   "execution_count": null,
   "id": "b6d6da7f",
   "metadata": {},
   "outputs": [],
   "source": []
  },
  {
   "cell_type": "code",
   "execution_count": null,
   "id": "47cbce80",
   "metadata": {},
   "outputs": [],
   "source": [
    "Q11. What is the __iadd__ method called?\n",
    "\n",
    "__iadd__ method is called when we use implementation like a+=b which is a.__iadd__(b)"
   ]
  },
  {
   "cell_type": "code",
   "execution_count": null,
   "id": "b92ccc52",
   "metadata": {},
   "outputs": [],
   "source": [
    "Q12. Is the __init__ method inherited by subclasses? What do you do if you need to customize its\n",
    "behavior within a subclass?\n",
    "\n",
    "Ans: Yes, __init__ method will be inherited by subclasses. \n",
    "    if we want to customize its behaviour within a subclass we can use super() method."
   ]
  }
 ],
 "metadata": {
  "kernelspec": {
   "display_name": "Python 3 (ipykernel)",
   "language": "python",
   "name": "python3"
  },
  "language_info": {
   "codemirror_mode": {
    "name": "ipython",
    "version": 3
   },
   "file_extension": ".py",
   "mimetype": "text/x-python",
   "name": "python",
   "nbconvert_exporter": "python",
   "pygments_lexer": "ipython3",
   "version": "3.9.7"
  }
 },
 "nbformat": 4,
 "nbformat_minor": 5
}
