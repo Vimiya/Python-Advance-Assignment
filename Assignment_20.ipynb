{
 "cells": [
  {
   "cell_type": "markdown",
   "id": "29dce2d0",
   "metadata": {},
   "source": [
    "1. Compare and contrast the float and Decimal classes' benefits and drawbacks.\n",
    "\n",
    "Ans: Both the float and decimal types store numerical values in Python.\n",
    "Use floats when convenience and speed matter. A float gives you an approximation of the number you declare. For example, if I print 0.1 with 18 decimals places, I don’t actually get 0.1 but instead an approximation.\n"
   ]
  },
  {
   "cell_type": "code",
   "execution_count": 1,
   "id": "0a2bf729",
   "metadata": {},
   "outputs": [
    {
     "name": "stdout",
     "output_type": "stream",
     "text": [
      "0.100000000000000006\n"
     ]
    }
   ],
   "source": [
    "print(f\"{0.1:.18f}\")"
   ]
  },
  {
   "cell_type": "code",
   "execution_count": 2,
   "id": "189cb4a5",
   "metadata": {},
   "outputs": [
    {
     "data": {
      "text/plain": [
       "False"
      ]
     },
     "execution_count": 2,
     "metadata": {},
     "output_type": "execute_result"
    }
   ],
   "source": [
    ".1 + .1 + .1 == .3"
   ]
  },
  {
   "cell_type": "code",
   "execution_count": 3,
   "id": "1e9553d5",
   "metadata": {},
   "outputs": [
    {
     "data": {
      "text/plain": [
       "0.30000000000000004"
      ]
     },
     "execution_count": 3,
     "metadata": {},
     "output_type": "execute_result"
    }
   ],
   "source": [
    ".1 + .1 + .1"
   ]
  },
  {
   "cell_type": "markdown",
   "id": "b204eed4",
   "metadata": {},
   "source": [
    "Intuitively, the addition makes sense, and at a glance, we expect the statement to be true. However, because of the float approximation it turns out to be false. This demonstrates one of the big issues with floats which is the lack of reliable equality testing. To fix this equality test without the use of decimals we need to use rounding."
   ]
  },
  {
   "cell_type": "code",
   "execution_count": 4,
   "id": "4c315bb3",
   "metadata": {},
   "outputs": [
    {
     "data": {
      "text/plain": [
       "True"
      ]
     },
     "execution_count": 4,
     "metadata": {},
     "output_type": "execute_result"
    }
   ],
   "source": [
    "round(.1 + .1 + .1, 10) == round(.3, 10)"
   ]
  },
  {
   "cell_type": "code",
   "execution_count": 5,
   "id": "946bfda2",
   "metadata": {},
   "outputs": [
    {
     "data": {
      "text/plain": [
       "0.3"
      ]
     },
     "execution_count": 5,
     "metadata": {},
     "output_type": "execute_result"
    }
   ],
   "source": [
    "round(.1 + .1 + .1, 1)"
   ]
  },
  {
   "cell_type": "markdown",
   "id": "0d57e5bc",
   "metadata": {},
   "source": [
    "In this case, we round the floats to prevent any precision issues. If you find yourself using floats and rounding frequently in your codebase, this indicates that it’s time to use decimals.\n",
    "\n",
    "Use decimals when precision matters, such as with financial calculations. Decimals can suffer from their own precision issues, but generally, decimals are more precise than floats. The performance difference between float and decimal, with Python 3, is not outlandish, and in my experience, the precision benefits of a decimal outweigh the performance benefits of a float."
   ]
  },
  {
   "cell_type": "code",
   "execution_count": 7,
   "id": "a61577d6",
   "metadata": {},
   "outputs": [
    {
     "name": "stdout",
     "output_type": "stream",
     "text": [
      "0.100000000000000000\n",
      "True\n"
     ]
    }
   ],
   "source": [
    "from decimal import Decimal\n",
    "print(f\"{Decimal('0.1'):.18f}\")\n",
    "print(Decimal('.1') + Decimal('.1') + Decimal('.1') == Decimal('.3'))"
   ]
  },
  {
   "cell_type": "code",
   "execution_count": null,
   "id": "7d030292",
   "metadata": {},
   "outputs": [],
   "source": []
  },
  {
   "cell_type": "code",
   "execution_count": null,
   "id": "cb7c18c7",
   "metadata": {},
   "outputs": [],
   "source": []
  },
  {
   "cell_type": "markdown",
   "id": "eea8ec68",
   "metadata": {},
   "source": [
    "2. Decimal('1.200') and Decimal('1.2') are two objects to consider. In what sense are these the same object? Are these just two ways of representing the exact same value, or do they correspond to different internal states ?\n",
    "Ans: Both values are same but internal representation at storage Is different. Precision differs, Decimal('1.200') gives internally 1.200 and Decimal('1.2') gives 1.2.\n",
    "\n",
    "3. What happens if the equality of Decimal('1.200') and Decimal('1.2') is checked ?\n",
    "Ans: Both values are checked to be equal , they only differ in precision.\n",
    "\n",
    "4. Why is it preferable to start a Decimal object with a string rather than a floating-point value ?\n",
    "Ans: Floating-point value is converted to Decimal format. Decimal can store float value with absolute precision. But when float value is given as Decimal object,it first has to be converted from floating point value which might already have rounding error.\n",
    "\n",
    "Hence it is preferable to start a Decimal object with a string.\n",
    "\n",
    "5. In an arithmetic phrase, how simple is it to combine Decimal objects with integers ?\n",
    "Ans: We can do it with use of Decimal().\n",
    "\n",
    "6. Can Decimal objects and floating-point values be combined easily ?\n",
    "Ans: Arithmetic operations like Adding,subtracting or multiplying a Decimal object by a floating-point value generates an error.\n",
    "To do these operations, the floating point has to be converted to a Decimal.\n",
    "\n",
    "7. Using the Fraction class but not the Decimal class, give an example of a quantity that can be expressed with absolute precision ?\n",
    "Ans: Value of 0.5 will be represented as ½.\n",
    "\n",
    "8.Consider the following two fraction objects: Fraction(1, 2) and Fraction(1, 2). (5, 10). Is the internal state of these two objects the same? Why do you think that is ?\n",
    "Ans: Both will be reduced to 1/2\n",
    "\n",
    "9. How do the Fraction class and the integer type (int) relate to each other? Containment or inheritance ?\n",
    "Ans: Fraction class and integer type(int) are related in form of a container.It contains two ints, one the numerator and the other the denominator"
   ]
  }
 ],
 "metadata": {
  "kernelspec": {
   "display_name": "Python 3 (ipykernel)",
   "language": "python",
   "name": "python3"
  },
  "language_info": {
   "codemirror_mode": {
    "name": "ipython",
    "version": 3
   },
   "file_extension": ".py",
   "mimetype": "text/x-python",
   "name": "python",
   "nbconvert_exporter": "python",
   "pygments_lexer": "ipython3",
   "version": "3.9.7"
  }
 },
 "nbformat": 4,
 "nbformat_minor": 5
}
